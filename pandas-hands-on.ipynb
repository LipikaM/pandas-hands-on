{
 "cells": [
  {
   "cell_type": "markdown",
   "metadata": {},
   "source": [
    "# Import Pandas"
   ]
  },
  {
   "cell_type": "code",
   "execution_count": 86,
   "metadata": {},
   "outputs": [],
   "source": [
    "import pandas as pd"
   ]
  },
  {
   "cell_type": "markdown",
   "metadata": {},
   "source": [
    "# Pandas Data types\n",
    "Pandas has two important datatypes : Series and Dataframes"
   ]
  },
  {
   "cell_type": "code",
   "execution_count": 114,
   "metadata": {},
   "outputs": [
    {
     "data": {
      "text/plain": [
       "0    Volkswagen\n",
       "1        Hundai\n",
       "2           BMW\n",
       "dtype: object"
      ]
     },
     "execution_count": 114,
     "metadata": {},
     "output_type": "execute_result"
    }
   ],
   "source": [
    "# Series\n",
    "car_brands = pd.Series([\"Volkswagen\", \"Hundai\", \"BMW\"])\n",
    "car_brands"
   ]
  },
  {
   "cell_type": "code",
   "execution_count": 115,
   "metadata": {},
   "outputs": [
    {
     "data": {
      "text/plain": [
       "0      Blue\n",
       "1    Yellow\n",
       "2       Red\n",
       "dtype: object"
      ]
     },
     "execution_count": 115,
     "metadata": {},
     "output_type": "execute_result"
    }
   ],
   "source": [
    "car_colors = pd.Series([\"Blue\", \"Yellow\", \"Red\"])\n",
    "car_colors"
   ]
  },
  {
   "cell_type": "code",
   "execution_count": 116,
   "metadata": {},
   "outputs": [
    {
     "data": {
      "text/html": [
       "<div>\n",
       "<style scoped>\n",
       "    .dataframe tbody tr th:only-of-type {\n",
       "        vertical-align: middle;\n",
       "    }\n",
       "\n",
       "    .dataframe tbody tr th {\n",
       "        vertical-align: top;\n",
       "    }\n",
       "\n",
       "    .dataframe thead th {\n",
       "        text-align: right;\n",
       "    }\n",
       "</style>\n",
       "<table border=\"1\" class=\"dataframe\">\n",
       "  <thead>\n",
       "    <tr style=\"text-align: right;\">\n",
       "      <th></th>\n",
       "      <th>Car brand</th>\n",
       "      <th>Car color</th>\n",
       "    </tr>\n",
       "  </thead>\n",
       "  <tbody>\n",
       "    <tr>\n",
       "      <th>0</th>\n",
       "      <td>Volkswagen</td>\n",
       "      <td>Blue</td>\n",
       "    </tr>\n",
       "    <tr>\n",
       "      <th>1</th>\n",
       "      <td>Hundai</td>\n",
       "      <td>Yellow</td>\n",
       "    </tr>\n",
       "    <tr>\n",
       "      <th>2</th>\n",
       "      <td>BMW</td>\n",
       "      <td>Red</td>\n",
       "    </tr>\n",
       "  </tbody>\n",
       "</table>\n",
       "</div>"
      ],
      "text/plain": [
       "    Car brand Car color\n",
       "0  Volkswagen      Blue\n",
       "1      Hundai    Yellow\n",
       "2         BMW       Red"
      ]
     },
     "execution_count": 116,
     "metadata": {},
     "output_type": "execute_result"
    }
   ],
   "source": [
    "# Dataframes of car_brand and car_colors. Dataframe index starts at 0. axis = 0 is row and axis = 1 is column\n",
    "car_details = pd.DataFrame({\"Car brand\" : car_brands, \"Car color\" : car_colors})\n",
    "car_details"
   ]
  },
  {
   "cell_type": "markdown",
   "metadata": {},
   "source": [
    "# Data import/export\n"
   ]
  },
  {
   "cell_type": "code",
   "execution_count": 175,
   "metadata": {},
   "outputs": [
    {
     "data": {
      "text/html": [
       "<div>\n",
       "<style scoped>\n",
       "    .dataframe tbody tr th:only-of-type {\n",
       "        vertical-align: middle;\n",
       "    }\n",
       "\n",
       "    .dataframe tbody tr th {\n",
       "        vertical-align: top;\n",
       "    }\n",
       "\n",
       "    .dataframe thead th {\n",
       "        text-align: right;\n",
       "    }\n",
       "</style>\n",
       "<table border=\"1\" class=\"dataframe\">\n",
       "  <thead>\n",
       "    <tr style=\"text-align: right;\">\n",
       "      <th></th>\n",
       "      <th>Ticket_id</th>\n",
       "      <th>License_plate_number</th>\n",
       "      <th>ticket_price</th>\n",
       "      <th>parking_type</th>\n",
       "      <th>parking_provider</th>\n",
       "      <th>parking_time</th>\n",
       "    </tr>\n",
       "  </thead>\n",
       "  <tbody>\n",
       "    <tr>\n",
       "      <th>0</th>\n",
       "      <td>T1283294138</td>\n",
       "      <td>ZH6789</td>\n",
       "      <td>€1</td>\n",
       "      <td>family</td>\n",
       "      <td>TZY</td>\n",
       "      <td>10</td>\n",
       "    </tr>\n",
       "    <tr>\n",
       "      <th>1</th>\n",
       "      <td>T1283293338</td>\n",
       "      <td>ZH5389</td>\n",
       "      <td>€2</td>\n",
       "      <td>child</td>\n",
       "      <td>AKK</td>\n",
       "      <td>20</td>\n",
       "    </tr>\n",
       "    <tr>\n",
       "      <th>2</th>\n",
       "      <td>T1283244138</td>\n",
       "      <td>TZ6785</td>\n",
       "      <td>€1</td>\n",
       "      <td>disable</td>\n",
       "      <td>AKK</td>\n",
       "      <td>50</td>\n",
       "    </tr>\n",
       "    <tr>\n",
       "      <th>3</th>\n",
       "      <td>T1282394138</td>\n",
       "      <td>UI6389</td>\n",
       "      <td>€5</td>\n",
       "      <td>female</td>\n",
       "      <td>TZY</td>\n",
       "      <td>80</td>\n",
       "    </tr>\n",
       "    <tr>\n",
       "      <th>4</th>\n",
       "      <td>T1299694138</td>\n",
       "      <td>UI4549</td>\n",
       "      <td>€10</td>\n",
       "      <td>female</td>\n",
       "      <td>TZY</td>\n",
       "      <td>20</td>\n",
       "    </tr>\n",
       "    <tr>\n",
       "      <th>5</th>\n",
       "      <td>T1285690038</td>\n",
       "      <td>RT5549</td>\n",
       "      <td>€2</td>\n",
       "      <td>disable</td>\n",
       "      <td>AKK</td>\n",
       "      <td>10</td>\n",
       "    </tr>\n",
       "    <tr>\n",
       "      <th>6</th>\n",
       "      <td>T1285694138</td>\n",
       "      <td>PP6239</td>\n",
       "      <td>€6</td>\n",
       "      <td>child</td>\n",
       "      <td>AKK</td>\n",
       "      <td>80</td>\n",
       "    </tr>\n",
       "  </tbody>\n",
       "</table>\n",
       "</div>"
      ],
      "text/plain": [
       "     Ticket_id License_plate_number ticket_price parking_type  \\\n",
       "0  T1283294138               ZH6789           €1       family   \n",
       "1  T1283293338               ZH5389           €2        child   \n",
       "2  T1283244138               TZ6785           €1      disable   \n",
       "3  T1282394138               UI6389           €5       female   \n",
       "4  T1299694138               UI4549          €10       female   \n",
       "5  T1285690038               RT5549           €2      disable   \n",
       "6  T1285694138               PP6239           €6        child   \n",
       "\n",
       "  parking_provider  parking_time  \n",
       "0              TZY            10  \n",
       "1              AKK            20  \n",
       "2              AKK            50  \n",
       "3              TZY            80  \n",
       "4              TZY            20  \n",
       "5              AKK            10  \n",
       "6              AKK            80  "
      ]
     },
     "execution_count": 175,
     "metadata": {},
     "output_type": "execute_result"
    }
   ],
   "source": [
    "parking_data = pd.read_csv(\"parking_ticket.csv\")\n",
    "parking_data"
   ]
  },
  {
   "cell_type": "code",
   "execution_count": 176,
   "metadata": {},
   "outputs": [
    {
     "data": {
      "text/html": [
       "<div>\n",
       "<style scoped>\n",
       "    .dataframe tbody tr th:only-of-type {\n",
       "        vertical-align: middle;\n",
       "    }\n",
       "\n",
       "    .dataframe tbody tr th {\n",
       "        vertical-align: top;\n",
       "    }\n",
       "\n",
       "    .dataframe thead th {\n",
       "        text-align: right;\n",
       "    }\n",
       "</style>\n",
       "<table border=\"1\" class=\"dataframe\">\n",
       "  <thead>\n",
       "    <tr style=\"text-align: right;\">\n",
       "      <th></th>\n",
       "      <th>Ticket_id</th>\n",
       "      <th>License_plate_number</th>\n",
       "      <th>ticket_price</th>\n",
       "      <th>parking_type</th>\n",
       "      <th>parking_provider</th>\n",
       "      <th>parking_time</th>\n",
       "    </tr>\n",
       "  </thead>\n",
       "  <tbody>\n",
       "    <tr>\n",
       "      <th>0</th>\n",
       "      <td>T1283294138</td>\n",
       "      <td>ZH6789</td>\n",
       "      <td>€1</td>\n",
       "      <td>family</td>\n",
       "      <td>TZY</td>\n",
       "      <td>10</td>\n",
       "    </tr>\n",
       "    <tr>\n",
       "      <th>1</th>\n",
       "      <td>T1283293338</td>\n",
       "      <td>ZH5389</td>\n",
       "      <td>€2</td>\n",
       "      <td>child</td>\n",
       "      <td>AKK</td>\n",
       "      <td>20</td>\n",
       "    </tr>\n",
       "    <tr>\n",
       "      <th>2</th>\n",
       "      <td>T1283244138</td>\n",
       "      <td>TZ6785</td>\n",
       "      <td>€1</td>\n",
       "      <td>disable</td>\n",
       "      <td>AKK</td>\n",
       "      <td>50</td>\n",
       "    </tr>\n",
       "    <tr>\n",
       "      <th>3</th>\n",
       "      <td>T1282394138</td>\n",
       "      <td>UI6389</td>\n",
       "      <td>€5</td>\n",
       "      <td>female</td>\n",
       "      <td>TZY</td>\n",
       "      <td>80</td>\n",
       "    </tr>\n",
       "    <tr>\n",
       "      <th>4</th>\n",
       "      <td>T1299694138</td>\n",
       "      <td>UI4549</td>\n",
       "      <td>€10</td>\n",
       "      <td>female</td>\n",
       "      <td>TZY</td>\n",
       "      <td>20</td>\n",
       "    </tr>\n",
       "    <tr>\n",
       "      <th>5</th>\n",
       "      <td>T1285690038</td>\n",
       "      <td>RT5549</td>\n",
       "      <td>€2</td>\n",
       "      <td>disable</td>\n",
       "      <td>AKK</td>\n",
       "      <td>10</td>\n",
       "    </tr>\n",
       "    <tr>\n",
       "      <th>6</th>\n",
       "      <td>T1285694138</td>\n",
       "      <td>PP6239</td>\n",
       "      <td>€6</td>\n",
       "      <td>child</td>\n",
       "      <td>AKK</td>\n",
       "      <td>80</td>\n",
       "    </tr>\n",
       "  </tbody>\n",
       "</table>\n",
       "</div>"
      ],
      "text/plain": [
       "     Ticket_id License_plate_number ticket_price parking_type  \\\n",
       "0  T1283294138               ZH6789           €1       family   \n",
       "1  T1283293338               ZH5389           €2        child   \n",
       "2  T1283244138               TZ6785           €1      disable   \n",
       "3  T1282394138               UI6389           €5       female   \n",
       "4  T1299694138               UI4549          €10       female   \n",
       "5  T1285690038               RT5549           €2      disable   \n",
       "6  T1285694138               PP6239           €6        child   \n",
       "\n",
       "  parking_provider  parking_time  \n",
       "0              TZY            10  \n",
       "1              AKK            20  \n",
       "2              AKK            50  \n",
       "3              TZY            80  \n",
       "4              TZY            20  \n",
       "5              AKK            10  \n",
       "6              AKK            80  "
      ]
     },
     "execution_count": 176,
     "metadata": {},
     "output_type": "execute_result"
    }
   ],
   "source": [
    "# parking data can also be imported and saved under pandas dataframes \n",
    "df_parking_data = pd.read_csv(\"parking_ticket.csv\")\n",
    "df_parking_data"
   ]
  },
  {
   "cell_type": "code",
   "execution_count": 177,
   "metadata": {},
   "outputs": [],
   "source": [
    "# export data after analysis and changes. It will save the exported file under current folder.\n",
    "parking_data.to_csv(\"exported_parking_data.csv\")"
   ]
  },
  {
   "cell_type": "markdown",
   "metadata": {},
   "source": [
    "# Data description"
   ]
  },
  {
   "cell_type": "code",
   "execution_count": 178,
   "metadata": {},
   "outputs": [
    {
     "data": {
      "text/plain": [
       "Ticket_id               object\n",
       "License_plate_number    object\n",
       "ticket_price            object\n",
       "parking_type            object\n",
       "parking_provider        object\n",
       "parking_time             int64\n",
       "dtype: object"
      ]
     },
     "execution_count": 178,
     "metadata": {},
     "output_type": "execute_result"
    }
   ],
   "source": [
    "# column datatypes\n",
    "parking_data.dtypes"
   ]
  },
  {
   "cell_type": "code",
   "execution_count": 179,
   "metadata": {},
   "outputs": [
    {
     "data": {
      "text/html": [
       "<div>\n",
       "<style scoped>\n",
       "    .dataframe tbody tr th:only-of-type {\n",
       "        vertical-align: middle;\n",
       "    }\n",
       "\n",
       "    .dataframe tbody tr th {\n",
       "        vertical-align: top;\n",
       "    }\n",
       "\n",
       "    .dataframe thead th {\n",
       "        text-align: right;\n",
       "    }\n",
       "</style>\n",
       "<table border=\"1\" class=\"dataframe\">\n",
       "  <thead>\n",
       "    <tr style=\"text-align: right;\">\n",
       "      <th></th>\n",
       "      <th>parking_time</th>\n",
       "    </tr>\n",
       "  </thead>\n",
       "  <tbody>\n",
       "    <tr>\n",
       "      <th>count</th>\n",
       "      <td>7.000000</td>\n",
       "    </tr>\n",
       "    <tr>\n",
       "      <th>mean</th>\n",
       "      <td>38.571429</td>\n",
       "    </tr>\n",
       "    <tr>\n",
       "      <th>std</th>\n",
       "      <td>31.320159</td>\n",
       "    </tr>\n",
       "    <tr>\n",
       "      <th>min</th>\n",
       "      <td>10.000000</td>\n",
       "    </tr>\n",
       "    <tr>\n",
       "      <th>25%</th>\n",
       "      <td>15.000000</td>\n",
       "    </tr>\n",
       "    <tr>\n",
       "      <th>50%</th>\n",
       "      <td>20.000000</td>\n",
       "    </tr>\n",
       "    <tr>\n",
       "      <th>75%</th>\n",
       "      <td>65.000000</td>\n",
       "    </tr>\n",
       "    <tr>\n",
       "      <th>max</th>\n",
       "      <td>80.000000</td>\n",
       "    </tr>\n",
       "  </tbody>\n",
       "</table>\n",
       "</div>"
      ],
      "text/plain": [
       "       parking_time\n",
       "count      7.000000\n",
       "mean      38.571429\n",
       "std       31.320159\n",
       "min       10.000000\n",
       "25%       15.000000\n",
       "50%       20.000000\n",
       "75%       65.000000\n",
       "max       80.000000"
      ]
     },
     "execution_count": 179,
     "metadata": {},
     "output_type": "execute_result"
    }
   ],
   "source": [
    "# describe() shows a quick statistic summary of your data\n",
    "parking_data.describe()"
   ]
  },
  {
   "cell_type": "markdown",
   "metadata": {},
   "source": [
    ".info() shows a handful of useful information about a DataFrame such as:\n",
    "\n",
    "How many entries (rows) there are\n",
    "Whether there are missing values (if a columns non-null value is less than the number of entries, it has missing values)\n",
    "The datatypes of each column"
   ]
  },
  {
   "cell_type": "code",
   "execution_count": 180,
   "metadata": {},
   "outputs": [
    {
     "name": "stdout",
     "output_type": "stream",
     "text": [
      "<class 'pandas.core.frame.DataFrame'>\n",
      "RangeIndex: 7 entries, 0 to 6\n",
      "Data columns (total 6 columns):\n",
      " #   Column                Non-Null Count  Dtype \n",
      "---  ------                --------------  ----- \n",
      " 0   Ticket_id             7 non-null      object\n",
      " 1   License_plate_number  7 non-null      object\n",
      " 2   ticket_price          7 non-null      object\n",
      " 3   parking_type          7 non-null      object\n",
      " 4   parking_provider      7 non-null      object\n",
      " 5   parking_time          7 non-null      int64 \n",
      "dtypes: int64(1), object(5)\n",
      "memory usage: 464.0+ bytes\n"
     ]
    }
   ],
   "source": [
    "parking_data.info()"
   ]
  },
  {
   "cell_type": "code",
   "execution_count": 181,
   "metadata": {},
   "outputs": [
    {
     "data": {
      "text/plain": [
       "parking_time    38.571429\n",
       "dtype: float64"
      ]
     },
     "execution_count": 181,
     "metadata": {},
     "output_type": "execute_result"
    }
   ],
   "source": [
    "# more mathematical and statistical methods like mean() , sum() can directly be called from dataframes or series\n",
    "parking_data.mean()"
   ]
  },
  {
   "cell_type": "code",
   "execution_count": 182,
   "metadata": {},
   "outputs": [
    {
     "data": {
      "text/plain": [
       "Ticket_id               T1283294138T1283293338T1283244138T1282394138T1...\n",
       "License_plate_number           ZH6789ZH5389TZ6785UI6389UI4549RT5549PP6239\n",
       "ticket_price                                              €1€2€1€5€10€2€6\n",
       "parking_type                   familychilddisablefemalefemaledisablechild\n",
       "parking_provider                                    TZYAKKAKKTZYTZYAKKAKK\n",
       "parking_time                                                          270\n",
       "dtype: object"
      ]
     },
     "execution_count": 182,
     "metadata": {},
     "output_type": "execute_result"
    }
   ],
   "source": [
    "parking_data.sum()"
   ]
  },
  {
   "cell_type": "code",
   "execution_count": 183,
   "metadata": {},
   "outputs": [
    {
     "data": {
      "text/plain": [
       "Index(['Ticket_id', 'License_plate_number', 'ticket_price', 'parking_type',\n",
       "       'parking_provider', 'parking_time'],\n",
       "      dtype='object')"
      ]
     },
     "execution_count": 183,
     "metadata": {},
     "output_type": "execute_result"
    }
   ],
   "source": [
    "# column, index and len\n",
    "parking_data.columns"
   ]
  },
  {
   "cell_type": "code",
   "execution_count": 184,
   "metadata": {},
   "outputs": [
    {
     "data": {
      "text/plain": [
       "'Ticket_id'"
      ]
     },
     "execution_count": 184,
     "metadata": {},
     "output_type": "execute_result"
    }
   ],
   "source": [
    "parking_columns = parking_data.columns\n",
    "parking_columns[0]"
   ]
  },
  {
   "cell_type": "code",
   "execution_count": 185,
   "metadata": {},
   "outputs": [
    {
     "data": {
      "text/plain": [
       "RangeIndex(start=0, stop=7, step=1)"
      ]
     },
     "execution_count": 185,
     "metadata": {},
     "output_type": "execute_result"
    }
   ],
   "source": [
    "# index will show you the values in a DataFrame's index (the column on the far left).\n",
    "parking_data.index"
   ]
  },
  {
   "cell_type": "code",
   "execution_count": 186,
   "metadata": {},
   "outputs": [
    {
     "data": {
      "text/plain": [
       "7"
      ]
     },
     "execution_count": 186,
     "metadata": {},
     "output_type": "execute_result"
    }
   ],
   "source": [
    "len(parking_data)"
   ]
  },
  {
   "cell_type": "markdown",
   "metadata": {},
   "source": [
    "# Data visualization & selection"
   ]
  },
  {
   "cell_type": "code",
   "execution_count": 187,
   "metadata": {},
   "outputs": [
    {
     "data": {
      "text/html": [
       "<div>\n",
       "<style scoped>\n",
       "    .dataframe tbody tr th:only-of-type {\n",
       "        vertical-align: middle;\n",
       "    }\n",
       "\n",
       "    .dataframe tbody tr th {\n",
       "        vertical-align: top;\n",
       "    }\n",
       "\n",
       "    .dataframe thead th {\n",
       "        text-align: right;\n",
       "    }\n",
       "</style>\n",
       "<table border=\"1\" class=\"dataframe\">\n",
       "  <thead>\n",
       "    <tr style=\"text-align: right;\">\n",
       "      <th></th>\n",
       "      <th>Ticket_id</th>\n",
       "      <th>License_plate_number</th>\n",
       "      <th>ticket_price</th>\n",
       "      <th>parking_type</th>\n",
       "      <th>parking_provider</th>\n",
       "      <th>parking_time</th>\n",
       "    </tr>\n",
       "  </thead>\n",
       "  <tbody>\n",
       "    <tr>\n",
       "      <th>0</th>\n",
       "      <td>T1283294138</td>\n",
       "      <td>ZH6789</td>\n",
       "      <td>€1</td>\n",
       "      <td>family</td>\n",
       "      <td>TZY</td>\n",
       "      <td>10</td>\n",
       "    </tr>\n",
       "    <tr>\n",
       "      <th>1</th>\n",
       "      <td>T1283293338</td>\n",
       "      <td>ZH5389</td>\n",
       "      <td>€2</td>\n",
       "      <td>child</td>\n",
       "      <td>AKK</td>\n",
       "      <td>20</td>\n",
       "    </tr>\n",
       "    <tr>\n",
       "      <th>2</th>\n",
       "      <td>T1283244138</td>\n",
       "      <td>TZ6785</td>\n",
       "      <td>€1</td>\n",
       "      <td>disable</td>\n",
       "      <td>AKK</td>\n",
       "      <td>50</td>\n",
       "    </tr>\n",
       "    <tr>\n",
       "      <th>3</th>\n",
       "      <td>T1282394138</td>\n",
       "      <td>UI6389</td>\n",
       "      <td>€5</td>\n",
       "      <td>female</td>\n",
       "      <td>TZY</td>\n",
       "      <td>80</td>\n",
       "    </tr>\n",
       "    <tr>\n",
       "      <th>4</th>\n",
       "      <td>T1299694138</td>\n",
       "      <td>UI4549</td>\n",
       "      <td>€10</td>\n",
       "      <td>female</td>\n",
       "      <td>TZY</td>\n",
       "      <td>20</td>\n",
       "    </tr>\n",
       "  </tbody>\n",
       "</table>\n",
       "</div>"
      ],
      "text/plain": [
       "     Ticket_id License_plate_number ticket_price parking_type  \\\n",
       "0  T1283294138               ZH6789           €1       family   \n",
       "1  T1283293338               ZH5389           €2        child   \n",
       "2  T1283244138               TZ6785           €1      disable   \n",
       "3  T1282394138               UI6389           €5       female   \n",
       "4  T1299694138               UI4549          €10       female   \n",
       "\n",
       "  parking_provider  parking_time  \n",
       "0              TZY            10  \n",
       "1              AKK            20  \n",
       "2              AKK            50  \n",
       "3              TZY            80  \n",
       "4              TZY            20  "
      ]
     },
     "execution_count": 187,
     "metadata": {},
     "output_type": "execute_result"
    }
   ],
   "source": [
    "# head() : shows first 5 rows of data by default\n",
    "parking_data.head()"
   ]
  },
  {
   "cell_type": "code",
   "execution_count": 188,
   "metadata": {},
   "outputs": [
    {
     "data": {
      "text/html": [
       "<div>\n",
       "<style scoped>\n",
       "    .dataframe tbody tr th:only-of-type {\n",
       "        vertical-align: middle;\n",
       "    }\n",
       "\n",
       "    .dataframe tbody tr th {\n",
       "        vertical-align: top;\n",
       "    }\n",
       "\n",
       "    .dataframe thead th {\n",
       "        text-align: right;\n",
       "    }\n",
       "</style>\n",
       "<table border=\"1\" class=\"dataframe\">\n",
       "  <thead>\n",
       "    <tr style=\"text-align: right;\">\n",
       "      <th></th>\n",
       "      <th>Ticket_id</th>\n",
       "      <th>License_plate_number</th>\n",
       "      <th>ticket_price</th>\n",
       "      <th>parking_type</th>\n",
       "      <th>parking_provider</th>\n",
       "      <th>parking_time</th>\n",
       "    </tr>\n",
       "  </thead>\n",
       "  <tbody>\n",
       "    <tr>\n",
       "      <th>0</th>\n",
       "      <td>T1283294138</td>\n",
       "      <td>ZH6789</td>\n",
       "      <td>€1</td>\n",
       "      <td>family</td>\n",
       "      <td>TZY</td>\n",
       "      <td>10</td>\n",
       "    </tr>\n",
       "    <tr>\n",
       "      <th>1</th>\n",
       "      <td>T1283293338</td>\n",
       "      <td>ZH5389</td>\n",
       "      <td>€2</td>\n",
       "      <td>child</td>\n",
       "      <td>AKK</td>\n",
       "      <td>20</td>\n",
       "    </tr>\n",
       "    <tr>\n",
       "      <th>2</th>\n",
       "      <td>T1283244138</td>\n",
       "      <td>TZ6785</td>\n",
       "      <td>€1</td>\n",
       "      <td>disable</td>\n",
       "      <td>AKK</td>\n",
       "      <td>50</td>\n",
       "    </tr>\n",
       "    <tr>\n",
       "      <th>3</th>\n",
       "      <td>T1282394138</td>\n",
       "      <td>UI6389</td>\n",
       "      <td>€5</td>\n",
       "      <td>female</td>\n",
       "      <td>TZY</td>\n",
       "      <td>80</td>\n",
       "    </tr>\n",
       "    <tr>\n",
       "      <th>4</th>\n",
       "      <td>T1299694138</td>\n",
       "      <td>UI4549</td>\n",
       "      <td>€10</td>\n",
       "      <td>female</td>\n",
       "      <td>TZY</td>\n",
       "      <td>20</td>\n",
       "    </tr>\n",
       "    <tr>\n",
       "      <th>5</th>\n",
       "      <td>T1285690038</td>\n",
       "      <td>RT5549</td>\n",
       "      <td>€2</td>\n",
       "      <td>disable</td>\n",
       "      <td>AKK</td>\n",
       "      <td>10</td>\n",
       "    </tr>\n",
       "  </tbody>\n",
       "</table>\n",
       "</div>"
      ],
      "text/plain": [
       "     Ticket_id License_plate_number ticket_price parking_type  \\\n",
       "0  T1283294138               ZH6789           €1       family   \n",
       "1  T1283293338               ZH5389           €2        child   \n",
       "2  T1283244138               TZ6785           €1      disable   \n",
       "3  T1282394138               UI6389           €5       female   \n",
       "4  T1299694138               UI4549          €10       female   \n",
       "5  T1285690038               RT5549           €2      disable   \n",
       "\n",
       "  parking_provider  parking_time  \n",
       "0              TZY            10  \n",
       "1              AKK            20  \n",
       "2              AKK            50  \n",
       "3              TZY            80  \n",
       "4              TZY            20  \n",
       "5              AKK            10  "
      ]
     },
     "execution_count": 188,
     "metadata": {},
     "output_type": "execute_result"
    }
   ],
   "source": [
    "# for more than 5 rows mention it\n",
    "parking_data.head(6)"
   ]
  },
  {
   "cell_type": "code",
   "execution_count": 189,
   "metadata": {},
   "outputs": [
    {
     "data": {
      "text/html": [
       "<div>\n",
       "<style scoped>\n",
       "    .dataframe tbody tr th:only-of-type {\n",
       "        vertical-align: middle;\n",
       "    }\n",
       "\n",
       "    .dataframe tbody tr th {\n",
       "        vertical-align: top;\n",
       "    }\n",
       "\n",
       "    .dataframe thead th {\n",
       "        text-align: right;\n",
       "    }\n",
       "</style>\n",
       "<table border=\"1\" class=\"dataframe\">\n",
       "  <thead>\n",
       "    <tr style=\"text-align: right;\">\n",
       "      <th></th>\n",
       "      <th>Ticket_id</th>\n",
       "      <th>License_plate_number</th>\n",
       "      <th>ticket_price</th>\n",
       "      <th>parking_type</th>\n",
       "      <th>parking_provider</th>\n",
       "      <th>parking_time</th>\n",
       "    </tr>\n",
       "  </thead>\n",
       "  <tbody>\n",
       "    <tr>\n",
       "      <th>2</th>\n",
       "      <td>T1283244138</td>\n",
       "      <td>TZ6785</td>\n",
       "      <td>€1</td>\n",
       "      <td>disable</td>\n",
       "      <td>AKK</td>\n",
       "      <td>50</td>\n",
       "    </tr>\n",
       "    <tr>\n",
       "      <th>3</th>\n",
       "      <td>T1282394138</td>\n",
       "      <td>UI6389</td>\n",
       "      <td>€5</td>\n",
       "      <td>female</td>\n",
       "      <td>TZY</td>\n",
       "      <td>80</td>\n",
       "    </tr>\n",
       "    <tr>\n",
       "      <th>4</th>\n",
       "      <td>T1299694138</td>\n",
       "      <td>UI4549</td>\n",
       "      <td>€10</td>\n",
       "      <td>female</td>\n",
       "      <td>TZY</td>\n",
       "      <td>20</td>\n",
       "    </tr>\n",
       "    <tr>\n",
       "      <th>5</th>\n",
       "      <td>T1285690038</td>\n",
       "      <td>RT5549</td>\n",
       "      <td>€2</td>\n",
       "      <td>disable</td>\n",
       "      <td>AKK</td>\n",
       "      <td>10</td>\n",
       "    </tr>\n",
       "    <tr>\n",
       "      <th>6</th>\n",
       "      <td>T1285694138</td>\n",
       "      <td>PP6239</td>\n",
       "      <td>€6</td>\n",
       "      <td>child</td>\n",
       "      <td>AKK</td>\n",
       "      <td>80</td>\n",
       "    </tr>\n",
       "  </tbody>\n",
       "</table>\n",
       "</div>"
      ],
      "text/plain": [
       "     Ticket_id License_plate_number ticket_price parking_type  \\\n",
       "2  T1283244138               TZ6785           €1      disable   \n",
       "3  T1282394138               UI6389           €5       female   \n",
       "4  T1299694138               UI4549          €10       female   \n",
       "5  T1285690038               RT5549           €2      disable   \n",
       "6  T1285694138               PP6239           €6        child   \n",
       "\n",
       "  parking_provider  parking_time  \n",
       "2              AKK            50  \n",
       "3              TZY            80  \n",
       "4              TZY            20  \n",
       "5              AKK            10  \n",
       "6              AKK            80  "
      ]
     },
     "execution_count": 189,
     "metadata": {},
     "output_type": "execute_result"
    }
   ],
   "source": [
    "# tail : shows bottom 5 rows of data by default\n",
    "parking_data.tail()"
   ]
  },
  {
   "cell_type": "code",
   "execution_count": 190,
   "metadata": {},
   "outputs": [
    {
     "data": {
      "text/html": [
       "<div>\n",
       "<style scoped>\n",
       "    .dataframe tbody tr th:only-of-type {\n",
       "        vertical-align: middle;\n",
       "    }\n",
       "\n",
       "    .dataframe tbody tr th {\n",
       "        vertical-align: top;\n",
       "    }\n",
       "\n",
       "    .dataframe thead th {\n",
       "        text-align: right;\n",
       "    }\n",
       "</style>\n",
       "<table border=\"1\" class=\"dataframe\">\n",
       "  <thead>\n",
       "    <tr style=\"text-align: right;\">\n",
       "      <th></th>\n",
       "      <th>Ticket_id</th>\n",
       "      <th>License_plate_number</th>\n",
       "      <th>ticket_price</th>\n",
       "      <th>parking_type</th>\n",
       "      <th>parking_provider</th>\n",
       "      <th>parking_time</th>\n",
       "    </tr>\n",
       "  </thead>\n",
       "  <tbody>\n",
       "    <tr>\n",
       "      <th>5</th>\n",
       "      <td>T1285690038</td>\n",
       "      <td>RT5549</td>\n",
       "      <td>€2</td>\n",
       "      <td>disable</td>\n",
       "      <td>AKK</td>\n",
       "      <td>10</td>\n",
       "    </tr>\n",
       "    <tr>\n",
       "      <th>6</th>\n",
       "      <td>T1285694138</td>\n",
       "      <td>PP6239</td>\n",
       "      <td>€6</td>\n",
       "      <td>child</td>\n",
       "      <td>AKK</td>\n",
       "      <td>80</td>\n",
       "    </tr>\n",
       "  </tbody>\n",
       "</table>\n",
       "</div>"
      ],
      "text/plain": [
       "     Ticket_id License_plate_number ticket_price parking_type  \\\n",
       "5  T1285690038               RT5549           €2      disable   \n",
       "6  T1285694138               PP6239           €6        child   \n",
       "\n",
       "  parking_provider  parking_time  \n",
       "5              AKK            10  \n",
       "6              AKK            80  "
      ]
     },
     "execution_count": 190,
     "metadata": {},
     "output_type": "execute_result"
    }
   ],
   "source": [
    "# tail : for different number mention it\n",
    "parking_data.tail(2)"
   ]
  },
  {
   "cell_type": "code",
   "execution_count": 191,
   "metadata": {},
   "outputs": [
    {
     "data": {
      "text/plain": [
       "0     disable parking\n",
       "2              family\n",
       "11           priority\n",
       "2               child\n",
       "1              female\n",
       "dtype: object"
      ]
     },
     "execution_count": 191,
     "metadata": {},
     "output_type": "execute_result"
    }
   ],
   "source": [
    "# .loc[] and .iloc[]\n",
    "parking_type = pd.Series([\"disable parking\",\"family\",\"priority\",\"child\",\"female\"], index=[0,2,11,2,1])\n",
    "parking_type"
   ]
  },
  {
   "cell_type": "code",
   "execution_count": 192,
   "metadata": {},
   "outputs": [
    {
     "data": {
      "text/plain": [
       "2    family\n",
       "2     child\n",
       "dtype: object"
      ]
     },
     "execution_count": 192,
     "metadata": {},
     "output_type": "execute_result"
    }
   ],
   "source": [
    "# loc : shows the data of the series with mentioned index\n",
    "parking_type.loc[2]"
   ]
  },
  {
   "cell_type": "code",
   "execution_count": 193,
   "metadata": {},
   "outputs": [
    {
     "data": {
      "text/plain": [
       "Ticket_id               T1283293338\n",
       "License_plate_number         ZH5389\n",
       "ticket_price                     €2\n",
       "parking_type                  child\n",
       "parking_provider                AKK\n",
       "parking_time                     20\n",
       "Name: 1, dtype: object"
      ]
     },
     "execution_count": 193,
     "metadata": {},
     "output_type": "execute_result"
    }
   ],
   "source": [
    "parking_data.loc[1]"
   ]
  },
  {
   "cell_type": "code",
   "execution_count": 194,
   "metadata": {},
   "outputs": [
    {
     "data": {
      "text/plain": [
       "Ticket_id               T1283293338\n",
       "License_plate_number         ZH5389\n",
       "ticket_price                     €2\n",
       "parking_type                  child\n",
       "parking_provider                AKK\n",
       "parking_time                     20\n",
       "Name: 1, dtype: object"
      ]
     },
     "execution_count": 194,
     "metadata": {},
     "output_type": "execute_result"
    }
   ],
   "source": [
    "# iloc does the same if index is in order\n",
    "parking_data.iloc[1]"
   ]
  },
  {
   "cell_type": "code",
   "execution_count": 195,
   "metadata": {},
   "outputs": [
    {
     "data": {
      "text/plain": [
       "'family'"
      ]
     },
     "execution_count": 195,
     "metadata": {},
     "output_type": "execute_result"
    }
   ],
   "source": [
    "# in case of unordred index shows the exact position\n",
    "parking_type.iloc[1]"
   ]
  },
  {
   "cell_type": "code",
   "execution_count": 196,
   "metadata": {},
   "outputs": [
    {
     "data": {
      "text/html": [
       "<div>\n",
       "<style scoped>\n",
       "    .dataframe tbody tr th:only-of-type {\n",
       "        vertical-align: middle;\n",
       "    }\n",
       "\n",
       "    .dataframe tbody tr th {\n",
       "        vertical-align: top;\n",
       "    }\n",
       "\n",
       "    .dataframe thead th {\n",
       "        text-align: right;\n",
       "    }\n",
       "</style>\n",
       "<table border=\"1\" class=\"dataframe\">\n",
       "  <thead>\n",
       "    <tr style=\"text-align: right;\">\n",
       "      <th></th>\n",
       "      <th>Ticket_id</th>\n",
       "      <th>License_plate_number</th>\n",
       "      <th>ticket_price</th>\n",
       "      <th>parking_type</th>\n",
       "      <th>parking_provider</th>\n",
       "      <th>parking_time</th>\n",
       "    </tr>\n",
       "  </thead>\n",
       "  <tbody>\n",
       "    <tr>\n",
       "      <th>0</th>\n",
       "      <td>T1283294138</td>\n",
       "      <td>ZH6789</td>\n",
       "      <td>€1</td>\n",
       "      <td>family</td>\n",
       "      <td>TZY</td>\n",
       "      <td>10</td>\n",
       "    </tr>\n",
       "    <tr>\n",
       "      <th>1</th>\n",
       "      <td>T1283293338</td>\n",
       "      <td>ZH5389</td>\n",
       "      <td>€2</td>\n",
       "      <td>child</td>\n",
       "      <td>AKK</td>\n",
       "      <td>20</td>\n",
       "    </tr>\n",
       "    <tr>\n",
       "      <th>2</th>\n",
       "      <td>T1283244138</td>\n",
       "      <td>TZ6785</td>\n",
       "      <td>€1</td>\n",
       "      <td>disable</td>\n",
       "      <td>AKK</td>\n",
       "      <td>50</td>\n",
       "    </tr>\n",
       "    <tr>\n",
       "      <th>3</th>\n",
       "      <td>T1282394138</td>\n",
       "      <td>UI6389</td>\n",
       "      <td>€5</td>\n",
       "      <td>female</td>\n",
       "      <td>TZY</td>\n",
       "      <td>80</td>\n",
       "    </tr>\n",
       "  </tbody>\n",
       "</table>\n",
       "</div>"
      ],
      "text/plain": [
       "     Ticket_id License_plate_number ticket_price parking_type  \\\n",
       "0  T1283294138               ZH6789           €1       family   \n",
       "1  T1283293338               ZH5389           €2        child   \n",
       "2  T1283244138               TZ6785           €1      disable   \n",
       "3  T1282394138               UI6389           €5       female   \n",
       "\n",
       "  parking_provider  parking_time  \n",
       "0              TZY            10  \n",
       "1              AKK            20  \n",
       "2              AKK            50  \n",
       "3              TZY            80  "
      ]
     },
     "execution_count": 196,
     "metadata": {},
     "output_type": "execute_result"
    }
   ],
   "source": [
    "# get all the rows upto the position of 4\n",
    "parking_data.loc[:3]"
   ]
  },
  {
   "cell_type": "markdown",
   "metadata": {},
   "source": [
    "Use .loc[] when using indexes.\n",
    "Use iloc[] when using positions."
   ]
  },
  {
   "cell_type": "code",
   "execution_count": 197,
   "metadata": {},
   "outputs": [
    {
     "data": {
      "text/plain": [
       "0    ZH6789\n",
       "1    ZH5389\n",
       "2    TZ6785\n",
       "3    UI6389\n",
       "4    UI4549\n",
       "5    RT5549\n",
       "6    PP6239\n",
       "Name: License_plate_number, dtype: object"
      ]
     },
     "execution_count": 197,
     "metadata": {},
     "output_type": "execute_result"
    }
   ],
   "source": [
    "# view a specific column\n",
    "parking_data['License_plate_number']"
   ]
  },
  {
   "cell_type": "code",
   "execution_count": 200,
   "metadata": {},
   "outputs": [
    {
     "data": {
      "text/html": [
       "<div>\n",
       "<style scoped>\n",
       "    .dataframe tbody tr th:only-of-type {\n",
       "        vertical-align: middle;\n",
       "    }\n",
       "\n",
       "    .dataframe tbody tr th {\n",
       "        vertical-align: top;\n",
       "    }\n",
       "\n",
       "    .dataframe thead th {\n",
       "        text-align: right;\n",
       "    }\n",
       "</style>\n",
       "<table border=\"1\" class=\"dataframe\">\n",
       "  <thead>\n",
       "    <tr style=\"text-align: right;\">\n",
       "      <th></th>\n",
       "      <th>Ticket_id</th>\n",
       "      <th>License_plate_number</th>\n",
       "      <th>ticket_price</th>\n",
       "      <th>parking_type</th>\n",
       "      <th>parking_provider</th>\n",
       "      <th>parking_time</th>\n",
       "    </tr>\n",
       "  </thead>\n",
       "  <tbody>\n",
       "    <tr>\n",
       "      <th>3</th>\n",
       "      <td>T1282394138</td>\n",
       "      <td>UI6389</td>\n",
       "      <td>€5</td>\n",
       "      <td>female</td>\n",
       "      <td>TZY</td>\n",
       "      <td>80</td>\n",
       "    </tr>\n",
       "    <tr>\n",
       "      <th>4</th>\n",
       "      <td>T1299694138</td>\n",
       "      <td>UI4549</td>\n",
       "      <td>€10</td>\n",
       "      <td>female</td>\n",
       "      <td>TZY</td>\n",
       "      <td>20</td>\n",
       "    </tr>\n",
       "    <tr>\n",
       "      <th>6</th>\n",
       "      <td>T1285694138</td>\n",
       "      <td>PP6239</td>\n",
       "      <td>€6</td>\n",
       "      <td>child</td>\n",
       "      <td>AKK</td>\n",
       "      <td>80</td>\n",
       "    </tr>\n",
       "  </tbody>\n",
       "</table>\n",
       "</div>"
      ],
      "text/plain": [
       "     Ticket_id License_plate_number ticket_price parking_type  \\\n",
       "3  T1282394138               UI6389           €5       female   \n",
       "4  T1299694138               UI4549          €10       female   \n",
       "6  T1285694138               PP6239           €6        child   \n",
       "\n",
       "  parking_provider  parking_time  \n",
       "3              TZY            80  \n",
       "4              TZY            20  \n",
       "6              AKK            80  "
      ]
     },
     "execution_count": 200,
     "metadata": {},
     "output_type": "execute_result"
    }
   ],
   "source": [
    "# select parking tickets more than 2 euro. Since price is not an integer hence change it to int first.\n",
    "parking_data[parking_data[\"ticket_price\"].str.replace('[\\€\\,\\.]', '').astype(int) > 2]"
   ]
  },
  {
   "cell_type": "code",
   "execution_count": 174,
   "metadata": {},
   "outputs": [
    {
     "data": {
      "text/html": [
       "<div>\n",
       "<style scoped>\n",
       "    .dataframe tbody tr th:only-of-type {\n",
       "        vertical-align: middle;\n",
       "    }\n",
       "\n",
       "    .dataframe tbody tr th {\n",
       "        vertical-align: top;\n",
       "    }\n",
       "\n",
       "    .dataframe thead th {\n",
       "        text-align: right;\n",
       "    }\n",
       "</style>\n",
       "<table border=\"1\" class=\"dataframe\">\n",
       "  <thead>\n",
       "    <tr style=\"text-align: right;\">\n",
       "      <th>parking_provider</th>\n",
       "      <th>AKK</th>\n",
       "      <th>TZY</th>\n",
       "    </tr>\n",
       "    <tr>\n",
       "      <th>parking_type</th>\n",
       "      <th></th>\n",
       "      <th></th>\n",
       "    </tr>\n",
       "  </thead>\n",
       "  <tbody>\n",
       "    <tr>\n",
       "      <th>child</th>\n",
       "      <td>2</td>\n",
       "      <td>0</td>\n",
       "    </tr>\n",
       "    <tr>\n",
       "      <th>disable</th>\n",
       "      <td>2</td>\n",
       "      <td>0</td>\n",
       "    </tr>\n",
       "    <tr>\n",
       "      <th>family</th>\n",
       "      <td>0</td>\n",
       "      <td>1</td>\n",
       "    </tr>\n",
       "    <tr>\n",
       "      <th>female</th>\n",
       "      <td>0</td>\n",
       "      <td>2</td>\n",
       "    </tr>\n",
       "  </tbody>\n",
       "</table>\n",
       "</div>"
      ],
      "text/plain": [
       "parking_provider  AKK  TZY\n",
       "parking_type              \n",
       "child               2    0\n",
       "disable             2    0\n",
       "family              0    1\n",
       "female              0    2"
      ]
     },
     "execution_count": 174,
     "metadata": {},
     "output_type": "execute_result"
    }
   ],
   "source": [
    "# crosstab : compares two columns\n",
    "pd.crosstab(parking_data[\"parking_type\"],parking_data[\"parking_provider\"])"
   ]
  },
  {
   "cell_type": "code",
   "execution_count": 145,
   "metadata": {},
   "outputs": [
    {
     "data": {
      "text/html": [
       "<div>\n",
       "<style scoped>\n",
       "    .dataframe tbody tr th:only-of-type {\n",
       "        vertical-align: middle;\n",
       "    }\n",
       "\n",
       "    .dataframe tbody tr th {\n",
       "        vertical-align: top;\n",
       "    }\n",
       "\n",
       "    .dataframe thead th {\n",
       "        text-align: right;\n",
       "    }\n",
       "</style>\n",
       "<table border=\"1\" class=\"dataframe\">\n",
       "  <thead>\n",
       "    <tr style=\"text-align: right;\">\n",
       "      <th></th>\n",
       "      <th>ticket_price</th>\n",
       "    </tr>\n",
       "    <tr>\n",
       "      <th>parking_type</th>\n",
       "      <th></th>\n",
       "    </tr>\n",
       "  </thead>\n",
       "  <tbody>\n",
       "    <tr>\n",
       "      <th>child</th>\n",
       "      <td>4.0</td>\n",
       "    </tr>\n",
       "    <tr>\n",
       "      <th>disable</th>\n",
       "      <td>1.5</td>\n",
       "    </tr>\n",
       "    <tr>\n",
       "      <th>family</th>\n",
       "      <td>1.0</td>\n",
       "    </tr>\n",
       "    <tr>\n",
       "      <th>female</th>\n",
       "      <td>7.5</td>\n",
       "    </tr>\n",
       "  </tbody>\n",
       "</table>\n",
       "</div>"
      ],
      "text/plain": [
       "              ticket_price\n",
       "parking_type              \n",
       "child                  4.0\n",
       "disable                1.5\n",
       "family                 1.0\n",
       "female                 7.5"
      ]
     },
     "execution_count": 145,
     "metadata": {},
     "output_type": "execute_result"
    }
   ],
   "source": [
    "# groupby() : compare more than one column with respect to one column. Like mean w.r.t to other columns.\n",
    "parking_data.groupby([\"parking_type\"]).mean()"
   ]
  },
  {
   "cell_type": "code",
   "execution_count": 146,
   "metadata": {},
   "outputs": [],
   "source": [
    "# pandas are used to visualize the data as well using matplotlib\n",
    "import matplotlib.pyplot as plt\n",
    "%matplotlib inline"
   ]
  },
  {
   "cell_type": "code",
   "execution_count": 148,
   "metadata": {},
   "outputs": [
    {
     "data": {
      "text/plain": [
       "<AxesSubplot:>"
      ]
     },
     "execution_count": 148,
     "metadata": {},
     "output_type": "execute_result"
    },
    {
     "data": {
      "image/png": "[encoded data removed]",
      "text/plain": [
       "<Figure size 432x288 with 1 Axes>"
      ]
     },
     "metadata": {
      "needs_background": "light"
     },
     "output_type": "display_data"
    }
   ],
   "source": [
    "parking_data[\"ticket_price\"].plot()"
   ]
  },
  {
   "cell_type": "code",
   "execution_count": 149,
   "metadata": {
    "scrolled": true
   },
   "outputs": [
    {
     "data": {
      "text/plain": [
       "<AxesSubplot:>"
      ]
     },
     "execution_count": 149,
     "metadata": {},
     "output_type": "execute_result"
    },
    {
     "data": {
      "image/png": "[encoded data removed]",
      "text/plain": [
       "<Figure size 432x288 with 1 Axes>"
      ]
     },
     "metadata": {
      "needs_background": "light"
     },
     "output_type": "display_data"
    }
   ],
   "source": [
    "# hist()\n",
    "parking_data[\"ticket_price\"].hist()"
   ]
  },
  {
   "cell_type": "markdown",
   "metadata": {},
   "source": [
    "# Data Manipulation"
   ]
  },
  {
   "cell_type": "code",
   "execution_count": 253,
   "metadata": {},
   "outputs": [
    {
     "data": {
      "text/html": [
       "<div>\n",
       "<style scoped>\n",
       "    .dataframe tbody tr th:only-of-type {\n",
       "        vertical-align: middle;\n",
       "    }\n",
       "\n",
       "    .dataframe tbody tr th {\n",
       "        vertical-align: top;\n",
       "    }\n",
       "\n",
       "    .dataframe thead th {\n",
       "        text-align: right;\n",
       "    }\n",
       "</style>\n",
       "<table border=\"1\" class=\"dataframe\">\n",
       "  <thead>\n",
       "    <tr style=\"text-align: right;\">\n",
       "      <th></th>\n",
       "      <th>Ticket_id</th>\n",
       "      <th>License_plate_number</th>\n",
       "      <th>ticket_price</th>\n",
       "      <th>parking_type</th>\n",
       "      <th>parking_provider</th>\n",
       "      <th>parking_time</th>\n",
       "    </tr>\n",
       "  </thead>\n",
       "  <tbody>\n",
       "    <tr>\n",
       "      <th>0</th>\n",
       "      <td>T1283294138</td>\n",
       "      <td>ZH6789</td>\n",
       "      <td>€1</td>\n",
       "      <td>FAMILY</td>\n",
       "      <td>TZY</td>\n",
       "      <td>10</td>\n",
       "    </tr>\n",
       "    <tr>\n",
       "      <th>1</th>\n",
       "      <td>T1283293338</td>\n",
       "      <td>ZH5389</td>\n",
       "      <td>€2</td>\n",
       "      <td>CHILD</td>\n",
       "      <td>AKK</td>\n",
       "      <td>20</td>\n",
       "    </tr>\n",
       "    <tr>\n",
       "      <th>2</th>\n",
       "      <td>T1283244138</td>\n",
       "      <td>TZ6785</td>\n",
       "      <td>€1</td>\n",
       "      <td>DISABLE</td>\n",
       "      <td>AKK</td>\n",
       "      <td>50</td>\n",
       "    </tr>\n",
       "    <tr>\n",
       "      <th>3</th>\n",
       "      <td>T1282394138</td>\n",
       "      <td>UI6389</td>\n",
       "      <td>€5</td>\n",
       "      <td>FEMALE</td>\n",
       "      <td>TZY</td>\n",
       "      <td>80</td>\n",
       "    </tr>\n",
       "    <tr>\n",
       "      <th>4</th>\n",
       "      <td>T1299694138</td>\n",
       "      <td>UI4549</td>\n",
       "      <td>€10</td>\n",
       "      <td>FEMALE</td>\n",
       "      <td>TZY</td>\n",
       "      <td>20</td>\n",
       "    </tr>\n",
       "    <tr>\n",
       "      <th>5</th>\n",
       "      <td>T1285690038</td>\n",
       "      <td>RT5549</td>\n",
       "      <td>€2</td>\n",
       "      <td>DISABLE</td>\n",
       "      <td>AKK</td>\n",
       "      <td>10</td>\n",
       "    </tr>\n",
       "    <tr>\n",
       "      <th>6</th>\n",
       "      <td>T1285694138</td>\n",
       "      <td>PP6239</td>\n",
       "      <td>€6</td>\n",
       "      <td>CHILD</td>\n",
       "      <td>AKK</td>\n",
       "      <td>80</td>\n",
       "    </tr>\n",
       "  </tbody>\n",
       "</table>\n",
       "</div>"
      ],
      "text/plain": [
       "     Ticket_id License_plate_number ticket_price parking_type  \\\n",
       "0  T1283294138               ZH6789           €1       FAMILY   \n",
       "1  T1283293338               ZH5389           €2        CHILD   \n",
       "2  T1283244138               TZ6785           €1      DISABLE   \n",
       "3  T1282394138               UI6389           €5       FEMALE   \n",
       "4  T1299694138               UI4549          €10       FEMALE   \n",
       "5  T1285690038               RT5549           €2      DISABLE   \n",
       "6  T1285694138               PP6239           €6        CHILD   \n",
       "\n",
       "  parking_provider  parking_time  \n",
       "0              TZY            10  \n",
       "1              AKK            20  \n",
       "2              AKK            50  \n",
       "3              TZY            80  \n",
       "4              TZY            20  \n",
       "5              AKK            10  \n",
       "6              AKK            80  "
      ]
     },
     "execution_count": 253,
     "metadata": {},
     "output_type": "execute_result"
    }
   ],
   "source": [
    "# lower() , upper() : lower and upper case respectively \n",
    "parking_data[\"parking_type\"] = parking_data[\"parking_type\"].str.upper()\n",
    "parking_data"
   ]
  },
  {
   "cell_type": "code",
   "execution_count": 254,
   "metadata": {},
   "outputs": [
    {
     "data": {
      "text/html": [
       "<div>\n",
       "<style scoped>\n",
       "    .dataframe tbody tr th:only-of-type {\n",
       "        vertical-align: middle;\n",
       "    }\n",
       "\n",
       "    .dataframe tbody tr th {\n",
       "        vertical-align: top;\n",
       "    }\n",
       "\n",
       "    .dataframe thead th {\n",
       "        text-align: right;\n",
       "    }\n",
       "</style>\n",
       "<table border=\"1\" class=\"dataframe\">\n",
       "  <thead>\n",
       "    <tr style=\"text-align: right;\">\n",
       "      <th></th>\n",
       "      <th>Ticket_id</th>\n",
       "      <th>License_plate_number</th>\n",
       "      <th>ticket_price</th>\n",
       "      <th>parking_type</th>\n",
       "      <th>parking_provider</th>\n",
       "      <th>parking_time</th>\n",
       "    </tr>\n",
       "  </thead>\n",
       "  <tbody>\n",
       "    <tr>\n",
       "      <th>0</th>\n",
       "      <td>T1283294138</td>\n",
       "      <td>ZH6789</td>\n",
       "      <td>€1</td>\n",
       "      <td>family</td>\n",
       "      <td>TZY</td>\n",
       "      <td>10.0</td>\n",
       "    </tr>\n",
       "    <tr>\n",
       "      <th>1</th>\n",
       "      <td>T1283293338</td>\n",
       "      <td>ZH5389</td>\n",
       "      <td>€2</td>\n",
       "      <td>child</td>\n",
       "      <td>AKK</td>\n",
       "      <td>20.0</td>\n",
       "    </tr>\n",
       "    <tr>\n",
       "      <th>2</th>\n",
       "      <td>T1283244138</td>\n",
       "      <td>TZ6785</td>\n",
       "      <td>€1</td>\n",
       "      <td>disable</td>\n",
       "      <td>AKK</td>\n",
       "      <td>NaN</td>\n",
       "    </tr>\n",
       "    <tr>\n",
       "      <th>3</th>\n",
       "      <td>T1282394138</td>\n",
       "      <td>UI6389</td>\n",
       "      <td>€5</td>\n",
       "      <td>female</td>\n",
       "      <td>TZY</td>\n",
       "      <td>80.0</td>\n",
       "    </tr>\n",
       "    <tr>\n",
       "      <th>4</th>\n",
       "      <td>T1299694138</td>\n",
       "      <td>UI4549</td>\n",
       "      <td>€10</td>\n",
       "      <td>female</td>\n",
       "      <td>TZY</td>\n",
       "      <td>20.0</td>\n",
       "    </tr>\n",
       "    <tr>\n",
       "      <th>5</th>\n",
       "      <td>T1285690038</td>\n",
       "      <td>NaN</td>\n",
       "      <td>€2</td>\n",
       "      <td>family</td>\n",
       "      <td>AKK</td>\n",
       "      <td>NaN</td>\n",
       "    </tr>\n",
       "    <tr>\n",
       "      <th>6</th>\n",
       "      <td>T1285694138</td>\n",
       "      <td>PP6239</td>\n",
       "      <td>€6</td>\n",
       "      <td>child</td>\n",
       "      <td>AKK</td>\n",
       "      <td>80.0</td>\n",
       "    </tr>\n",
       "  </tbody>\n",
       "</table>\n",
       "</div>"
      ],
      "text/plain": [
       "     Ticket_id License_plate_number ticket_price parking_type  \\\n",
       "0  T1283294138               ZH6789           €1       family   \n",
       "1  T1283293338               ZH5389           €2        child   \n",
       "2  T1283244138               TZ6785           €1      disable   \n",
       "3  T1282394138               UI6389           €5       female   \n",
       "4  T1299694138               UI4549          €10       female   \n",
       "5  T1285690038                  NaN           €2       family   \n",
       "6  T1285694138               PP6239           €6        child   \n",
       "\n",
       "  parking_provider  parking_time  \n",
       "0              TZY          10.0  \n",
       "1              AKK          20.0  \n",
       "2              AKK           NaN  \n",
       "3              TZY          80.0  \n",
       "4              TZY          20.0  \n",
       "5              AKK           NaN  \n",
       "6              AKK          80.0  "
      ]
     },
     "execution_count": 254,
     "metadata": {},
     "output_type": "execute_result"
    }
   ],
   "source": [
    "# fillna() : fills the missing data in table\n",
    "parking_data_missing = pd.read_csv(\"parking_ticket_missing.csv\")\n",
    "parking_data_missing"
   ]
  },
  {
   "cell_type": "code",
   "execution_count": 255,
   "metadata": {},
   "outputs": [
    {
     "data": {
      "text/plain": [
       "0    10.0\n",
       "1    20.0\n",
       "2    42.0\n",
       "3    80.0\n",
       "4    20.0\n",
       "5    42.0\n",
       "6    80.0\n",
       "Name: parking_time, dtype: float64"
      ]
     },
     "execution_count": 255,
     "metadata": {},
     "output_type": "execute_result"
    }
   ],
   "source": [
    "parking_data_missing[\"parking_time\"].fillna(parking_data_missing[\"parking_time\"].mean())"
   ]
  },
  {
   "cell_type": "code",
   "execution_count": 256,
   "metadata": {},
   "outputs": [
    {
     "data": {
      "text/html": [
       "<div>\n",
       "<style scoped>\n",
       "    .dataframe tbody tr th:only-of-type {\n",
       "        vertical-align: middle;\n",
       "    }\n",
       "\n",
       "    .dataframe tbody tr th {\n",
       "        vertical-align: top;\n",
       "    }\n",
       "\n",
       "    .dataframe thead th {\n",
       "        text-align: right;\n",
       "    }\n",
       "</style>\n",
       "<table border=\"1\" class=\"dataframe\">\n",
       "  <thead>\n",
       "    <tr style=\"text-align: right;\">\n",
       "      <th></th>\n",
       "      <th>Ticket_id</th>\n",
       "      <th>License_plate_number</th>\n",
       "      <th>ticket_price</th>\n",
       "      <th>parking_type</th>\n",
       "      <th>parking_provider</th>\n",
       "      <th>parking_time</th>\n",
       "    </tr>\n",
       "  </thead>\n",
       "  <tbody>\n",
       "    <tr>\n",
       "      <th>0</th>\n",
       "      <td>T1283294138</td>\n",
       "      <td>ZH6789</td>\n",
       "      <td>€1</td>\n",
       "      <td>family</td>\n",
       "      <td>TZY</td>\n",
       "      <td>10.0</td>\n",
       "    </tr>\n",
       "    <tr>\n",
       "      <th>1</th>\n",
       "      <td>T1283293338</td>\n",
       "      <td>ZH5389</td>\n",
       "      <td>€2</td>\n",
       "      <td>child</td>\n",
       "      <td>AKK</td>\n",
       "      <td>20.0</td>\n",
       "    </tr>\n",
       "    <tr>\n",
       "      <th>2</th>\n",
       "      <td>T1283244138</td>\n",
       "      <td>TZ6785</td>\n",
       "      <td>€1</td>\n",
       "      <td>disable</td>\n",
       "      <td>AKK</td>\n",
       "      <td>NaN</td>\n",
       "    </tr>\n",
       "    <tr>\n",
       "      <th>3</th>\n",
       "      <td>T1282394138</td>\n",
       "      <td>UI6389</td>\n",
       "      <td>€5</td>\n",
       "      <td>female</td>\n",
       "      <td>TZY</td>\n",
       "      <td>80.0</td>\n",
       "    </tr>\n",
       "    <tr>\n",
       "      <th>4</th>\n",
       "      <td>T1299694138</td>\n",
       "      <td>UI4549</td>\n",
       "      <td>€10</td>\n",
       "      <td>female</td>\n",
       "      <td>TZY</td>\n",
       "      <td>20.0</td>\n",
       "    </tr>\n",
       "    <tr>\n",
       "      <th>5</th>\n",
       "      <td>T1285690038</td>\n",
       "      <td>NaN</td>\n",
       "      <td>€2</td>\n",
       "      <td>family</td>\n",
       "      <td>AKK</td>\n",
       "      <td>NaN</td>\n",
       "    </tr>\n",
       "    <tr>\n",
       "      <th>6</th>\n",
       "      <td>T1285694138</td>\n",
       "      <td>PP6239</td>\n",
       "      <td>€6</td>\n",
       "      <td>child</td>\n",
       "      <td>AKK</td>\n",
       "      <td>80.0</td>\n",
       "    </tr>\n",
       "  </tbody>\n",
       "</table>\n",
       "</div>"
      ],
      "text/plain": [
       "     Ticket_id License_plate_number ticket_price parking_type  \\\n",
       "0  T1283294138               ZH6789           €1       family   \n",
       "1  T1283293338               ZH5389           €2        child   \n",
       "2  T1283244138               TZ6785           €1      disable   \n",
       "3  T1282394138               UI6389           €5       female   \n",
       "4  T1299694138               UI4549          €10       female   \n",
       "5  T1285690038                  NaN           €2       family   \n",
       "6  T1285694138               PP6239           €6        child   \n",
       "\n",
       "  parking_provider  parking_time  \n",
       "0              TZY          10.0  \n",
       "1              AKK          20.0  \n",
       "2              AKK           NaN  \n",
       "3              TZY          80.0  \n",
       "4              TZY          20.0  \n",
       "5              AKK           NaN  \n",
       "6              AKK          80.0  "
      ]
     },
     "execution_count": 256,
     "metadata": {},
     "output_type": "execute_result"
    }
   ],
   "source": [
    "parking_data_missing"
   ]
  },
  {
   "cell_type": "code",
   "execution_count": 257,
   "metadata": {},
   "outputs": [],
   "source": [
    "# inplace = True manipulates the real dataframe\n",
    "parking_data_missing[\"parking_time\"].fillna(parking_data_missing[\"parking_time\"].mean(), inplace=True)"
   ]
  },
  {
   "cell_type": "code",
   "execution_count": 258,
   "metadata": {},
   "outputs": [
    {
     "data": {
      "text/html": [
       "<div>\n",
       "<style scoped>\n",
       "    .dataframe tbody tr th:only-of-type {\n",
       "        vertical-align: middle;\n",
       "    }\n",
       "\n",
       "    .dataframe tbody tr th {\n",
       "        vertical-align: top;\n",
       "    }\n",
       "\n",
       "    .dataframe thead th {\n",
       "        text-align: right;\n",
       "    }\n",
       "</style>\n",
       "<table border=\"1\" class=\"dataframe\">\n",
       "  <thead>\n",
       "    <tr style=\"text-align: right;\">\n",
       "      <th></th>\n",
       "      <th>Ticket_id</th>\n",
       "      <th>License_plate_number</th>\n",
       "      <th>ticket_price</th>\n",
       "      <th>parking_type</th>\n",
       "      <th>parking_provider</th>\n",
       "      <th>parking_time</th>\n",
       "    </tr>\n",
       "  </thead>\n",
       "  <tbody>\n",
       "    <tr>\n",
       "      <th>0</th>\n",
       "      <td>T1283294138</td>\n",
       "      <td>ZH6789</td>\n",
       "      <td>€1</td>\n",
       "      <td>family</td>\n",
       "      <td>TZY</td>\n",
       "      <td>10.0</td>\n",
       "    </tr>\n",
       "    <tr>\n",
       "      <th>1</th>\n",
       "      <td>T1283293338</td>\n",
       "      <td>ZH5389</td>\n",
       "      <td>€2</td>\n",
       "      <td>child</td>\n",
       "      <td>AKK</td>\n",
       "      <td>20.0</td>\n",
       "    </tr>\n",
       "    <tr>\n",
       "      <th>2</th>\n",
       "      <td>T1283244138</td>\n",
       "      <td>TZ6785</td>\n",
       "      <td>€1</td>\n",
       "      <td>disable</td>\n",
       "      <td>AKK</td>\n",
       "      <td>42.0</td>\n",
       "    </tr>\n",
       "    <tr>\n",
       "      <th>3</th>\n",
       "      <td>T1282394138</td>\n",
       "      <td>UI6389</td>\n",
       "      <td>€5</td>\n",
       "      <td>female</td>\n",
       "      <td>TZY</td>\n",
       "      <td>80.0</td>\n",
       "    </tr>\n",
       "    <tr>\n",
       "      <th>4</th>\n",
       "      <td>T1299694138</td>\n",
       "      <td>UI4549</td>\n",
       "      <td>€10</td>\n",
       "      <td>female</td>\n",
       "      <td>TZY</td>\n",
       "      <td>20.0</td>\n",
       "    </tr>\n",
       "    <tr>\n",
       "      <th>5</th>\n",
       "      <td>T1285690038</td>\n",
       "      <td>NaN</td>\n",
       "      <td>€2</td>\n",
       "      <td>family</td>\n",
       "      <td>AKK</td>\n",
       "      <td>42.0</td>\n",
       "    </tr>\n",
       "    <tr>\n",
       "      <th>6</th>\n",
       "      <td>T1285694138</td>\n",
       "      <td>PP6239</td>\n",
       "      <td>€6</td>\n",
       "      <td>child</td>\n",
       "      <td>AKK</td>\n",
       "      <td>80.0</td>\n",
       "    </tr>\n",
       "  </tbody>\n",
       "</table>\n",
       "</div>"
      ],
      "text/plain": [
       "     Ticket_id License_plate_number ticket_price parking_type  \\\n",
       "0  T1283294138               ZH6789           €1       family   \n",
       "1  T1283293338               ZH5389           €2        child   \n",
       "2  T1283244138               TZ6785           €1      disable   \n",
       "3  T1282394138               UI6389           €5       female   \n",
       "4  T1299694138               UI4549          €10       female   \n",
       "5  T1285690038                  NaN           €2       family   \n",
       "6  T1285694138               PP6239           €6        child   \n",
       "\n",
       "  parking_provider  parking_time  \n",
       "0              TZY          10.0  \n",
       "1              AKK          20.0  \n",
       "2              AKK          42.0  \n",
       "3              TZY          80.0  \n",
       "4              TZY          20.0  \n",
       "5              AKK          42.0  \n",
       "6              AKK          80.0  "
      ]
     },
     "execution_count": 258,
     "metadata": {},
     "output_type": "execute_result"
    }
   ],
   "source": [
    "parking_data_missing"
   ]
  },
  {
   "cell_type": "code",
   "execution_count": 259,
   "metadata": {},
   "outputs": [
    {
     "data": {
      "text/html": [
       "<div>\n",
       "<style scoped>\n",
       "    .dataframe tbody tr th:only-of-type {\n",
       "        vertical-align: middle;\n",
       "    }\n",
       "\n",
       "    .dataframe tbody tr th {\n",
       "        vertical-align: top;\n",
       "    }\n",
       "\n",
       "    .dataframe thead th {\n",
       "        text-align: right;\n",
       "    }\n",
       "</style>\n",
       "<table border=\"1\" class=\"dataframe\">\n",
       "  <thead>\n",
       "    <tr style=\"text-align: right;\">\n",
       "      <th></th>\n",
       "      <th>Ticket_id</th>\n",
       "      <th>License_plate_number</th>\n",
       "      <th>ticket_price</th>\n",
       "      <th>parking_type</th>\n",
       "      <th>parking_provider</th>\n",
       "      <th>parking_time</th>\n",
       "    </tr>\n",
       "  </thead>\n",
       "  <tbody>\n",
       "    <tr>\n",
       "      <th>0</th>\n",
       "      <td>T1283294138</td>\n",
       "      <td>ZH6789</td>\n",
       "      <td>€1</td>\n",
       "      <td>family</td>\n",
       "      <td>TZY</td>\n",
       "      <td>10.0</td>\n",
       "    </tr>\n",
       "    <tr>\n",
       "      <th>1</th>\n",
       "      <td>T1283293338</td>\n",
       "      <td>ZH5389</td>\n",
       "      <td>€2</td>\n",
       "      <td>child</td>\n",
       "      <td>AKK</td>\n",
       "      <td>20.0</td>\n",
       "    </tr>\n",
       "    <tr>\n",
       "      <th>2</th>\n",
       "      <td>T1283244138</td>\n",
       "      <td>TZ6785</td>\n",
       "      <td>€1</td>\n",
       "      <td>disable</td>\n",
       "      <td>AKK</td>\n",
       "      <td>42.0</td>\n",
       "    </tr>\n",
       "    <tr>\n",
       "      <th>3</th>\n",
       "      <td>T1282394138</td>\n",
       "      <td>UI6389</td>\n",
       "      <td>€5</td>\n",
       "      <td>female</td>\n",
       "      <td>TZY</td>\n",
       "      <td>80.0</td>\n",
       "    </tr>\n",
       "    <tr>\n",
       "      <th>4</th>\n",
       "      <td>T1299694138</td>\n",
       "      <td>UI4549</td>\n",
       "      <td>€10</td>\n",
       "      <td>female</td>\n",
       "      <td>TZY</td>\n",
       "      <td>20.0</td>\n",
       "    </tr>\n",
       "    <tr>\n",
       "      <th>6</th>\n",
       "      <td>T1285694138</td>\n",
       "      <td>PP6239</td>\n",
       "      <td>€6</td>\n",
       "      <td>child</td>\n",
       "      <td>AKK</td>\n",
       "      <td>80.0</td>\n",
       "    </tr>\n",
       "  </tbody>\n",
       "</table>\n",
       "</div>"
      ],
      "text/plain": [
       "     Ticket_id License_plate_number ticket_price parking_type  \\\n",
       "0  T1283294138               ZH6789           €1       family   \n",
       "1  T1283293338               ZH5389           €2        child   \n",
       "2  T1283244138               TZ6785           €1      disable   \n",
       "3  T1282394138               UI6389           €5       female   \n",
       "4  T1299694138               UI4549          €10       female   \n",
       "6  T1285694138               PP6239           €6        child   \n",
       "\n",
       "  parking_provider  parking_time  \n",
       "0              TZY          10.0  \n",
       "1              AKK          20.0  \n",
       "2              AKK          42.0  \n",
       "3              TZY          80.0  \n",
       "4              TZY          20.0  \n",
       "6              AKK          80.0  "
      ]
     },
     "execution_count": 259,
     "metadata": {},
     "output_type": "execute_result"
    }
   ],
   "source": [
    "# dropna() : drops the row without data\n",
    "parking_data_missing.dropna()"
   ]
  },
  {
   "cell_type": "code",
   "execution_count": 262,
   "metadata": {},
   "outputs": [
    {
     "data": {
      "text/html": [
       "<div>\n",
       "<style scoped>\n",
       "    .dataframe tbody tr th:only-of-type {\n",
       "        vertical-align: middle;\n",
       "    }\n",
       "\n",
       "    .dataframe tbody tr th {\n",
       "        vertical-align: top;\n",
       "    }\n",
       "\n",
       "    .dataframe thead th {\n",
       "        text-align: right;\n",
       "    }\n",
       "</style>\n",
       "<table border=\"1\" class=\"dataframe\">\n",
       "  <thead>\n",
       "    <tr style=\"text-align: right;\">\n",
       "      <th></th>\n",
       "      <th>Ticket_id</th>\n",
       "      <th>License_plate_number</th>\n",
       "      <th>ticket_price</th>\n",
       "      <th>parking_type</th>\n",
       "      <th>parking_provider</th>\n",
       "      <th>parking_time</th>\n",
       "      <th>Type</th>\n",
       "    </tr>\n",
       "  </thead>\n",
       "  <tbody>\n",
       "    <tr>\n",
       "      <th>0</th>\n",
       "      <td>T1283294138</td>\n",
       "      <td>ZH6789</td>\n",
       "      <td>€1</td>\n",
       "      <td>FAMILY</td>\n",
       "      <td>TZY</td>\n",
       "      <td>10</td>\n",
       "      <td>offstreet</td>\n",
       "    </tr>\n",
       "    <tr>\n",
       "      <th>1</th>\n",
       "      <td>T1283293338</td>\n",
       "      <td>ZH5389</td>\n",
       "      <td>€2</td>\n",
       "      <td>CHILD</td>\n",
       "      <td>AKK</td>\n",
       "      <td>20</td>\n",
       "      <td>onstreet</td>\n",
       "    </tr>\n",
       "    <tr>\n",
       "      <th>2</th>\n",
       "      <td>T1283244138</td>\n",
       "      <td>TZ6785</td>\n",
       "      <td>€1</td>\n",
       "      <td>DISABLE</td>\n",
       "      <td>AKK</td>\n",
       "      <td>50</td>\n",
       "      <td>offstreet</td>\n",
       "    </tr>\n",
       "    <tr>\n",
       "      <th>3</th>\n",
       "      <td>T1282394138</td>\n",
       "      <td>UI6389</td>\n",
       "      <td>€5</td>\n",
       "      <td>FEMALE</td>\n",
       "      <td>TZY</td>\n",
       "      <td>80</td>\n",
       "      <td>offstreet</td>\n",
       "    </tr>\n",
       "    <tr>\n",
       "      <th>4</th>\n",
       "      <td>T1299694138</td>\n",
       "      <td>UI4549</td>\n",
       "      <td>€10</td>\n",
       "      <td>FEMALE</td>\n",
       "      <td>TZY</td>\n",
       "      <td>20</td>\n",
       "      <td>offstreet</td>\n",
       "    </tr>\n",
       "    <tr>\n",
       "      <th>5</th>\n",
       "      <td>T1285690038</td>\n",
       "      <td>RT5549</td>\n",
       "      <td>€2</td>\n",
       "      <td>DISABLE</td>\n",
       "      <td>AKK</td>\n",
       "      <td>10</td>\n",
       "      <td>offstreet</td>\n",
       "    </tr>\n",
       "    <tr>\n",
       "      <th>6</th>\n",
       "      <td>T1285694138</td>\n",
       "      <td>PP6239</td>\n",
       "      <td>€6</td>\n",
       "      <td>CHILD</td>\n",
       "      <td>AKK</td>\n",
       "      <td>80</td>\n",
       "      <td>offstreet</td>\n",
       "    </tr>\n",
       "  </tbody>\n",
       "</table>\n",
       "</div>"
      ],
      "text/plain": [
       "     Ticket_id License_plate_number ticket_price parking_type  \\\n",
       "0  T1283294138               ZH6789           €1       FAMILY   \n",
       "1  T1283293338               ZH5389           €2        CHILD   \n",
       "2  T1283244138               TZ6785           €1      DISABLE   \n",
       "3  T1282394138               UI6389           €5       FEMALE   \n",
       "4  T1299694138               UI4549          €10       FEMALE   \n",
       "5  T1285690038               RT5549           €2      DISABLE   \n",
       "6  T1285694138               PP6239           €6        CHILD   \n",
       "\n",
       "  parking_provider  parking_time       Type  \n",
       "0              TZY            10  offstreet  \n",
       "1              AKK            20   onstreet  \n",
       "2              AKK            50  offstreet  \n",
       "3              TZY            80  offstreet  \n",
       "4              TZY            20  offstreet  \n",
       "5              AKK            10  offstreet  \n",
       "6              AKK            80  offstreet  "
      ]
     },
     "execution_count": 262,
     "metadata": {},
     "output_type": "execute_result"
    }
   ],
   "source": [
    "# add a new column in existing table\n",
    "off_on_parking_column = pd.Series([\"offstreet\", \"onstreet\",\"offstreet\",\"offstreet\",\"offstreet\",\"offstreet\",\"offstreet\"])\n",
    "parking_data[\"Type\"] = off_on_parking_column\n",
    "parking_data"
   ]
  },
  {
   "cell_type": "code",
   "execution_count": 269,
   "metadata": {},
   "outputs": [
    {
     "data": {
      "text/html": [
       "<div>\n",
       "<style scoped>\n",
       "    .dataframe tbody tr th:only-of-type {\n",
       "        vertical-align: middle;\n",
       "    }\n",
       "\n",
       "    .dataframe tbody tr th {\n",
       "        vertical-align: top;\n",
       "    }\n",
       "\n",
       "    .dataframe thead th {\n",
       "        text-align: right;\n",
       "    }\n",
       "</style>\n",
       "<table border=\"1\" class=\"dataframe\">\n",
       "  <thead>\n",
       "    <tr style=\"text-align: right;\">\n",
       "      <th></th>\n",
       "      <th>Ticket_id</th>\n",
       "      <th>License_plate_number</th>\n",
       "      <th>ticket_price</th>\n",
       "      <th>parking_type</th>\n",
       "      <th>parking_provider</th>\n",
       "      <th>parking_time</th>\n",
       "      <th>Type</th>\n",
       "      <th>country</th>\n",
       "    </tr>\n",
       "  </thead>\n",
       "  <tbody>\n",
       "    <tr>\n",
       "      <th>0</th>\n",
       "      <td>T1283294138</td>\n",
       "      <td>ZH6789</td>\n",
       "      <td>€1</td>\n",
       "      <td>FAMILY</td>\n",
       "      <td>TZY</td>\n",
       "      <td>10</td>\n",
       "      <td>offstreet</td>\n",
       "      <td>DE</td>\n",
       "    </tr>\n",
       "    <tr>\n",
       "      <th>1</th>\n",
       "      <td>T1283293338</td>\n",
       "      <td>ZH5389</td>\n",
       "      <td>€2</td>\n",
       "      <td>CHILD</td>\n",
       "      <td>AKK</td>\n",
       "      <td>20</td>\n",
       "      <td>onstreet</td>\n",
       "      <td>DE</td>\n",
       "    </tr>\n",
       "    <tr>\n",
       "      <th>2</th>\n",
       "      <td>T1283244138</td>\n",
       "      <td>TZ6785</td>\n",
       "      <td>€1</td>\n",
       "      <td>DISABLE</td>\n",
       "      <td>AKK</td>\n",
       "      <td>50</td>\n",
       "      <td>offstreet</td>\n",
       "      <td>DE</td>\n",
       "    </tr>\n",
       "    <tr>\n",
       "      <th>3</th>\n",
       "      <td>T1282394138</td>\n",
       "      <td>UI6389</td>\n",
       "      <td>€5</td>\n",
       "      <td>FEMALE</td>\n",
       "      <td>TZY</td>\n",
       "      <td>80</td>\n",
       "      <td>offstreet</td>\n",
       "      <td>DE</td>\n",
       "    </tr>\n",
       "    <tr>\n",
       "      <th>4</th>\n",
       "      <td>T1299694138</td>\n",
       "      <td>UI4549</td>\n",
       "      <td>€10</td>\n",
       "      <td>FEMALE</td>\n",
       "      <td>TZY</td>\n",
       "      <td>20</td>\n",
       "      <td>offstreet</td>\n",
       "      <td>DE</td>\n",
       "    </tr>\n",
       "    <tr>\n",
       "      <th>5</th>\n",
       "      <td>T1285690038</td>\n",
       "      <td>RT5549</td>\n",
       "      <td>€2</td>\n",
       "      <td>DISABLE</td>\n",
       "      <td>AKK</td>\n",
       "      <td>10</td>\n",
       "      <td>offstreet</td>\n",
       "      <td>DE</td>\n",
       "    </tr>\n",
       "    <tr>\n",
       "      <th>6</th>\n",
       "      <td>T1285694138</td>\n",
       "      <td>PP6239</td>\n",
       "      <td>€6</td>\n",
       "      <td>CHILD</td>\n",
       "      <td>AKK</td>\n",
       "      <td>80</td>\n",
       "      <td>offstreet</td>\n",
       "      <td>DE</td>\n",
       "    </tr>\n",
       "  </tbody>\n",
       "</table>\n",
       "</div>"
      ],
      "text/plain": [
       "     Ticket_id License_plate_number ticket_price parking_type  \\\n",
       "0  T1283294138               ZH6789           €1       FAMILY   \n",
       "1  T1283293338               ZH5389           €2        CHILD   \n",
       "2  T1283244138               TZ6785           €1      DISABLE   \n",
       "3  T1282394138               UI6389           €5       FEMALE   \n",
       "4  T1299694138               UI4549          €10       FEMALE   \n",
       "5  T1285690038               RT5549           €2      DISABLE   \n",
       "6  T1285694138               PP6239           €6        CHILD   \n",
       "\n",
       "  parking_provider  parking_time       Type country  \n",
       "0              TZY            10  offstreet      DE  \n",
       "1              AKK            20   onstreet      DE  \n",
       "2              AKK            50  offstreet      DE  \n",
       "3              TZY            80  offstreet      DE  \n",
       "4              TZY            20  offstreet      DE  \n",
       "5              AKK            10  offstreet      DE  \n",
       "6              AKK            80  offstreet      DE  "
      ]
     },
     "execution_count": 269,
     "metadata": {},
     "output_type": "execute_result"
    }
   ],
   "source": [
    "# new column with a list\n",
    "country = [\"DE\",\"DE\",\"DE\",\"DE\",\"DE\",\"DE\",\"DE\"]\n",
    "parking_data[\"country\"] = country\n",
    "parking_data"
   ]
  },
  {
   "cell_type": "code",
   "execution_count": 271,
   "metadata": {},
   "outputs": [
    {
     "data": {
      "text/html": [
       "<div>\n",
       "<style scoped>\n",
       "    .dataframe tbody tr th:only-of-type {\n",
       "        vertical-align: middle;\n",
       "    }\n",
       "\n",
       "    .dataframe tbody tr th {\n",
       "        vertical-align: top;\n",
       "    }\n",
       "\n",
       "    .dataframe thead th {\n",
       "        text-align: right;\n",
       "    }\n",
       "</style>\n",
       "<table border=\"1\" class=\"dataframe\">\n",
       "  <thead>\n",
       "    <tr style=\"text-align: right;\">\n",
       "      <th></th>\n",
       "      <th>Ticket_id</th>\n",
       "      <th>License_plate_number</th>\n",
       "      <th>ticket_price</th>\n",
       "      <th>parking_type</th>\n",
       "      <th>parking_provider</th>\n",
       "      <th>parking_time</th>\n",
       "      <th>Type</th>\n",
       "    </tr>\n",
       "  </thead>\n",
       "  <tbody>\n",
       "    <tr>\n",
       "      <th>0</th>\n",
       "      <td>T1283294138</td>\n",
       "      <td>ZH6789</td>\n",
       "      <td>€1</td>\n",
       "      <td>FAMILY</td>\n",
       "      <td>TZY</td>\n",
       "      <td>10</td>\n",
       "      <td>offstreet</td>\n",
       "    </tr>\n",
       "    <tr>\n",
       "      <th>1</th>\n",
       "      <td>T1283293338</td>\n",
       "      <td>ZH5389</td>\n",
       "      <td>€2</td>\n",
       "      <td>CHILD</td>\n",
       "      <td>AKK</td>\n",
       "      <td>20</td>\n",
       "      <td>onstreet</td>\n",
       "    </tr>\n",
       "    <tr>\n",
       "      <th>2</th>\n",
       "      <td>T1283244138</td>\n",
       "      <td>TZ6785</td>\n",
       "      <td>€1</td>\n",
       "      <td>DISABLE</td>\n",
       "      <td>AKK</td>\n",
       "      <td>50</td>\n",
       "      <td>offstreet</td>\n",
       "    </tr>\n",
       "    <tr>\n",
       "      <th>3</th>\n",
       "      <td>T1282394138</td>\n",
       "      <td>UI6389</td>\n",
       "      <td>€5</td>\n",
       "      <td>FEMALE</td>\n",
       "      <td>TZY</td>\n",
       "      <td>80</td>\n",
       "      <td>offstreet</td>\n",
       "    </tr>\n",
       "    <tr>\n",
       "      <th>4</th>\n",
       "      <td>T1299694138</td>\n",
       "      <td>UI4549</td>\n",
       "      <td>€10</td>\n",
       "      <td>FEMALE</td>\n",
       "      <td>TZY</td>\n",
       "      <td>20</td>\n",
       "      <td>offstreet</td>\n",
       "    </tr>\n",
       "    <tr>\n",
       "      <th>5</th>\n",
       "      <td>T1285690038</td>\n",
       "      <td>RT5549</td>\n",
       "      <td>€2</td>\n",
       "      <td>DISABLE</td>\n",
       "      <td>AKK</td>\n",
       "      <td>10</td>\n",
       "      <td>offstreet</td>\n",
       "    </tr>\n",
       "    <tr>\n",
       "      <th>6</th>\n",
       "      <td>T1285694138</td>\n",
       "      <td>PP6239</td>\n",
       "      <td>€6</td>\n",
       "      <td>CHILD</td>\n",
       "      <td>AKK</td>\n",
       "      <td>80</td>\n",
       "      <td>offstreet</td>\n",
       "    </tr>\n",
       "  </tbody>\n",
       "</table>\n",
       "</div>"
      ],
      "text/plain": [
       "     Ticket_id License_plate_number ticket_price parking_type  \\\n",
       "0  T1283294138               ZH6789           €1       FAMILY   \n",
       "1  T1283293338               ZH5389           €2        CHILD   \n",
       "2  T1283244138               TZ6785           €1      DISABLE   \n",
       "3  T1282394138               UI6389           €5       FEMALE   \n",
       "4  T1299694138               UI4549          €10       FEMALE   \n",
       "5  T1285690038               RT5549           €2      DISABLE   \n",
       "6  T1285694138               PP6239           €6        CHILD   \n",
       "\n",
       "  parking_provider  parking_time       Type  \n",
       "0              TZY            10  offstreet  \n",
       "1              AKK            20   onstreet  \n",
       "2              AKK            50  offstreet  \n",
       "3              TZY            80  offstreet  \n",
       "4              TZY            20  offstreet  \n",
       "5              AKK            10  offstreet  \n",
       "6              AKK            80  offstreet  "
      ]
     },
     "execution_count": 271,
     "metadata": {},
     "output_type": "execute_result"
    }
   ],
   "source": [
    "# drop a column\n",
    "parking_data = parking_data.drop(\"country\", axis=1)\n",
    "parking_data"
   ]
  },
  {
   "cell_type": "code",
   "execution_count": null,
   "metadata": {},
   "outputs": [],
   "source": []
  }
 ],
 "metadata": {
  "kernelspec": {
   "display_name": "Python 3",
   "language": "python",
   "name": "python3"
  },
  "language_info": {
   "codemirror_mode": {
    "name": "ipython",
    "version": 3
   },
   "file_extension": ".py",
   "mimetype": "text/x-python",
   "name": "python",
   "nbconvert_exporter": "python",
   "pygments_lexer": "ipython3",
   "version": "3.8.5"
  }
 },
 "nbformat": 4,
 "nbformat_minor": 4
}
